{
 "cells": [
  {
   "cell_type": "markdown",
   "metadata": {
    "id": "4w9z0bsxsL4Y"
   },
   "source": [
    "# File Update Using a Python Algorithm" 
   ]
  },
  {
   "cell_type": "markdown",
   "metadata": {},
   "source": [
    "## Open the file that contains the allow_list"
   ]
  },
  {
   "cell_type": "code",
   "execution_count": 42,
   "metadata": {
    "id": "dxeblX9m2Lva"
   },
   "outputs": [],
   "source": [
    "# `import_file` is assigned to allow_list.txt to the name of the file \n",
    "\n",
    "import_file = \"allow_list.txt\"\n",
    "\n",
    "# `remove_list` is a list of IP addresses that are no longer allowed to access restricted information. \n",
    "\n",
    "remove_list = [\"192.168.97.225\", \"192.168.158.170\", \"192.168.201.40\", \"192.168.58.57\"]\n",
    "\n",
    "# Display `import_file`\n",
    "\n",
    "print(import_file)\n",
    "\n",
    "# Display `remove_list`\n",
    "\n",
    "print(remove_list)"
   ]
  },
  {
   "cell_type": "markdown",
   "metadata": {
    "id": "0MpuZ_7Y3qHB"
   },
   "source": [
    "## Read the file contents"
   ]
  },
  {
   "cell_type": "code",
   "execution_count": 34,
   "metadata": {
    "id": "zvlBO9Eh5J4H"
   },
   "outputs": [],
   "source": [
    "with open(import_file, \"r\") as file:\n",
    "\n",
    "  # `.read()` is used to read the imported file and store it in a variable named `ip_addresses`\n",
    "\n",
    "    ip_addresses= file.read()\n",
    "    "
   ]
  },
  {
   "cell_type": "markdown",
   "metadata": {
    "id": "0MpuZ_7Y3qHB"
   },
   "source": [
    "## Convert the String into a list"
   ]
  },
  {
   "cell_type": "code",
   "execution_count": 35,
   "metadata": {
    "id": "HB-HMhEX8jzU"
   },
   "outputs": [],
   "source": [
    "#`.split()` is used to convert `ip_addresses` from a string to a list\n",
    "\n",
    "ip_addresses = ip_addresses.split()\n"
   ]
  },
  {
   "cell_type": "markdown",
   "metadata": {
    "id": "0MpuZ_7Y3qHB"
   },
   "source": [
    "## Iterate through the allow list  and Remove IP addresses that are on the remove list"
   ]
  },
  {
   "cell_type": "code",
   "execution_count": 39,
   "metadata": {
    "id": "9Liw9LIH__TN"
   },
   "outputs": [],
   "source": [
    "\n",
    "# iterative statement\n",
    "# Loop through `ip_addresses`\n",
    "\n",
    "for element in ip_addresses:\n",
    "   \n",
    "    if element in remove_list:\n",
    "       \n",
    "        ip_addresses.remove(element)\n"
   ]
  },
  {
   "cell_type": "markdown",
   "metadata": {
    "id": "0MpuZ_7Y3qHB"
   },
   "source": [
    "## Update the file with the revised list of IP addresses"
   ]
  },
  {
   "cell_type": "code",
   "execution_count": 25,
   "metadata": {
    "id": "kuCDsf-AHHLL"
   },
   "outputs": [],
   "source": [
    "# Updating the file with the revised list\n",
    "\n",
    "# `ip_addresses` is converted back to a string so that it can be written into the text file \n",
    "\n",
    "ip_addresses = \" \".join(ip_addresses)    \n",
    "\n",
    "# `with` statement is used to rewrite the original file\n",
    "\n",
    "with open(import_file,\"w\") as file:\n",
    "\n",
    "  # Rewrite the file, replacing its contents with `ip_addresses`\n",
    "\n",
    "  file.write(ip_addresses)"
   ]
  },
  {
   "cell_type": "markdown",
   "metadata": {
    "id": "0MpuZ_7Y3qHB"
   },
   "source": [
    "## Read the Updated file"
   ]
  },
  {
   "cell_type": "code",
   "execution_count": 40,
   "metadata": {
    "id": "s0dlsfrPKd_q",
    "scrolled": true
   },
   "outputs": [],
   "source": [
    "\n",
    "# Read  the updated file\n",
    "\n",
    "with open(import_file,\"r\") as file:\n",
    "\n",
    "    # Read in the updated file and store the contents in `text`\n",
    "\n",
    "    text = file.read()\n",
    "\n",
    "# Display the contents of `text`\n",
    "\n",
    "print(text)"
   ]
  }
 ],
 "metadata": {
  "colab": {
   "provenance": [],
   "toc_visible": true
  },
  "kernelspec": {
   "display_name": "Python 3 (ipykernel)",
   "language": "python",
   "name": "python3"
  },
  "language_info": {
   "codemirror_mode": {
    "name": "ipython",
    "version": 3
   },
   "file_extension": ".py",
   "mimetype": "text/x-python",
   "name": "python",
   "nbconvert_exporter": "python",
   "pygments_lexer": "ipython3",
   "version": "3.9.13"
  }
 },
 "nbformat": 4,
 "nbformat_minor": 1
}

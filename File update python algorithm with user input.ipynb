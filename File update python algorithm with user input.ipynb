{
 "cells": [
  {
   "cell_type": "markdown",
   "metadata": {
    "id": "4w9z0bsxsL4Y"
   },
   "source": [
    "# File Update Using a Python Algorithm"
   ]
  },
  {
   "cell_type": "markdown",
   "metadata": {},
   "source": [
    "## Summarized code with user inputs"
   ]
  },
  {
   "cell_type": "code",
   "execution_count": 8,
   "metadata": {},
   "outputs": [
    {
     "name": "stdout",
     "output_type": "stream",
     "text": [
      "Enter IP addresses to be removed (separated by space): \n",
      "192.168.25.60 192.168.140.81 192.168.203.198\n",
      "\n",
      "New file content:  ip_address192.168.205.12192.168.6.9192.168.52.90192.168.90.124192.168.186.176192.168.133.188192.168.218.219192.168.52.37192.168.156.224192.168.60.153192.168.69.116\n"
     ]
    }
   ],
   "source": [
    "def update_file(import_file, remove_list):\n",
    "\n",
    "  # Read in the initial contents of the file\n",
    "\n",
    "  with open(import_file, \"r\") as file:\n",
    "\n",
    "    # Read the imported file and store it in a variable named `ip_addresses`\n",
    "\n",
    "    ip_addresses = file.read()\n",
    "\n",
    "  # Convert `ip_addresses` from a string to a list\n",
    "\n",
    "  ip_addresses = ip_addresses.split()\n",
    "\n",
    "  # Building iterative statement\n",
    "\n",
    "\n",
    "  for element in ip_addresses:\n",
    "    \n",
    "    # Build conditional statement\n",
    "    \n",
    "    if element in remove_list:\n",
    "\n",
    "      # then current element should be removed from `ip_addresses`\n",
    "\n",
    "      ip_addresses.remove(element)\n",
    "\n",
    "  # Convert `ip_addresses` back to a string so that it can be written into the text file \n",
    "\n",
    "  ip_addresses = \" \".join(ip_addresses)       \n",
    "\n",
    "  # Build `with` statement to rewrite the original file\n",
    "\n",
    "  with open(import_file, \"w\") as file:\n",
    "\n",
    "    # Rewrite the file, replacing its contents with `ip_addresses`\n",
    "\n",
    "    file.write(ip_addresses)\n",
    "    \n",
    "\n",
    "# Input the IP addresses to be removed from the user\n",
    "user_input = input(\"Enter IP addresses to be removed (separated by space): \\n\")\n",
    "\n",
    "remove_list = user_input.split()\n",
    "\n",
    "# Call `update_file()` and pass in \"allow_list.txt\" and a list of IP addresses to be removed\n",
    "\n",
    "update_file(\"allow_list.txt\", remove_list)\n",
    "\n",
    "# Build `with` statement to read in the updated file\n",
    "\n",
    "with open(\"allow_list.txt\", \"r\") as file:\n",
    "\n",
    "  # Read in the updated file and store the contents in `text`\n",
    "\n",
    "  text = file.read()\n",
    "\n",
    "# Display the contents of `text`\n",
    "\n",
    "print(\"\\nNew file content: \", text)"
   ]
  }
 ],
 "metadata": {
  "colab": {
   "provenance": [],
   "toc_visible": true
  },
  "kernelspec": {
   "display_name": "Python 3 (ipykernel)",
   "language": "python",
   "name": "python3"
  },
  "language_info": {
   "codemirror_mode": {
    "name": "ipython",
    "version": 3
   },
   "file_extension": ".py",
   "mimetype": "text/x-python",
   "name": "python",
   "nbconvert_exporter": "python",
   "pygments_lexer": "ipython3",
   "version": "3.9.13"
  }
 },
 "nbformat": 4,
 "nbformat_minor": 1
}
